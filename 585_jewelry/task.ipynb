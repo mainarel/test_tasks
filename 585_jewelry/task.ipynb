{
 "cells": [
  {
   "cell_type": "code",
   "execution_count": 22,
   "metadata": {},
   "outputs": [],
   "source": [
    "import pandas as pd\n",
    "import numpy as np"
   ]
  },
  {
   "cell_type": "markdown",
   "metadata": {},
   "source": [
    "### **Задание 1. Excel**  ###\n",
    "Рассчитайте прирост средней коверсии на 1 магазин в Санкт-Петербурге из входящих в покупатели. Данные находятся на листе \"\"Задание 1\"\"  \n",
    "В анализе прироста средней конверсии Периода 2 к Периоду 1 должны участвовать только сопоставимые магазины (LFL) - работавшие в обоих периодах"
   ]
  },
  {
   "cell_type": "markdown",
   "metadata": {},
   "source": [
    "см. лист \"Задание 1\""
   ]
  },
  {
   "cell_type": "markdown",
   "metadata": {},
   "source": [
    "Также решение на питоне:"
   ]
  },
  {
   "cell_type": "code",
   "execution_count": 8,
   "metadata": {},
   "outputs": [],
   "source": [
    "data_task1 = pd.read_excel(\"Тестовое.xlsx\", sheet_name=\"Задание 1\", usecols='A:E')"
   ]
  },
  {
   "cell_type": "code",
   "execution_count": 9,
   "metadata": {},
   "outputs": [
    {
     "data": {
      "text/html": [
       "<div>\n",
       "<style scoped>\n",
       "    .dataframe tbody tr th:only-of-type {\n",
       "        vertical-align: middle;\n",
       "    }\n",
       "\n",
       "    .dataframe tbody tr th {\n",
       "        vertical-align: top;\n",
       "    }\n",
       "\n",
       "    .dataframe thead th {\n",
       "        text-align: right;\n",
       "    }\n",
       "</style>\n",
       "<table border=\"1\" class=\"dataframe\">\n",
       "  <thead>\n",
       "    <tr style=\"text-align: right;\">\n",
       "      <th></th>\n",
       "      <th>Период</th>\n",
       "      <th>Код магазина</th>\n",
       "      <th>Город</th>\n",
       "      <th>Входящие, чел</th>\n",
       "      <th>Покупатели, чел.</th>\n",
       "    </tr>\n",
       "  </thead>\n",
       "  <tbody>\n",
       "    <tr>\n",
       "      <th>0</th>\n",
       "      <td>1</td>\n",
       "      <td>1-01-145</td>\n",
       "      <td>Боровичи</td>\n",
       "      <td>3560</td>\n",
       "      <td>483</td>\n",
       "    </tr>\n",
       "    <tr>\n",
       "      <th>1</th>\n",
       "      <td>1</td>\n",
       "      <td>1-01-212</td>\n",
       "      <td>Великий Новгород</td>\n",
       "      <td>0</td>\n",
       "      <td>95</td>\n",
       "    </tr>\n",
       "    <tr>\n",
       "      <th>2</th>\n",
       "      <td>1</td>\n",
       "      <td>1-01-189</td>\n",
       "      <td>Великий Новгород</td>\n",
       "      <td>1896</td>\n",
       "      <td>237</td>\n",
       "    </tr>\n",
       "    <tr>\n",
       "      <th>3</th>\n",
       "      <td>1</td>\n",
       "      <td>1-01-228</td>\n",
       "      <td>Великий Новгород</td>\n",
       "      <td>3329</td>\n",
       "      <td>511</td>\n",
       "    </tr>\n",
       "    <tr>\n",
       "      <th>4</th>\n",
       "      <td>1</td>\n",
       "      <td>1-01-232</td>\n",
       "      <td>Великий Новгород</td>\n",
       "      <td>9837</td>\n",
       "      <td>975</td>\n",
       "    </tr>\n",
       "    <tr>\n",
       "      <th>...</th>\n",
       "      <td>...</td>\n",
       "      <td>...</td>\n",
       "      <td>...</td>\n",
       "      <td>...</td>\n",
       "      <td>...</td>\n",
       "    </tr>\n",
       "    <tr>\n",
       "      <th>257</th>\n",
       "      <td>2</td>\n",
       "      <td>1-01-166</td>\n",
       "      <td>Архангельск</td>\n",
       "      <td>3430</td>\n",
       "      <td>359</td>\n",
       "    </tr>\n",
       "    <tr>\n",
       "      <th>258</th>\n",
       "      <td>2</td>\n",
       "      <td>1-02-011</td>\n",
       "      <td>Мирный</td>\n",
       "      <td>1577</td>\n",
       "      <td>284</td>\n",
       "    </tr>\n",
       "    <tr>\n",
       "      <th>259</th>\n",
       "      <td>2</td>\n",
       "      <td>1-01-174</td>\n",
       "      <td>Северодвинск</td>\n",
       "      <td>5327</td>\n",
       "      <td>510</td>\n",
       "    </tr>\n",
       "    <tr>\n",
       "      <th>260</th>\n",
       "      <td>2</td>\n",
       "      <td>1-02-003</td>\n",
       "      <td>Северодвинск</td>\n",
       "      <td>2282</td>\n",
       "      <td>250</td>\n",
       "    </tr>\n",
       "    <tr>\n",
       "      <th>261</th>\n",
       "      <td>2</td>\n",
       "      <td>1-02-020</td>\n",
       "      <td>Северодвинск</td>\n",
       "      <td>3156</td>\n",
       "      <td>224</td>\n",
       "    </tr>\n",
       "  </tbody>\n",
       "</table>\n",
       "<p>262 rows × 5 columns</p>\n",
       "</div>"
      ],
      "text/plain": [
       "     Период Код магазина             Город  Входящие, чел  Покупатели, чел.\n",
       "0         1     1-01-145          Боровичи           3560               483\n",
       "1         1     1-01-212  Великий Новгород              0                95\n",
       "2         1     1-01-189  Великий Новгород           1896               237\n",
       "3         1     1-01-228  Великий Новгород           3329               511\n",
       "4         1     1-01-232  Великий Новгород           9837               975\n",
       "..      ...          ...               ...            ...               ...\n",
       "257       2     1-01-166       Архангельск           3430               359\n",
       "258       2     1-02-011            Мирный           1577               284\n",
       "259       2     1-01-174      Северодвинск           5327               510\n",
       "260       2     1-02-003      Северодвинск           2282               250\n",
       "261       2     1-02-020      Северодвинск           3156               224\n",
       "\n",
       "[262 rows x 5 columns]"
      ]
     },
     "execution_count": 9,
     "metadata": {},
     "output_type": "execute_result"
    }
   ],
   "source": [
    "data_task1"
   ]
  },
  {
   "cell_type": "code",
   "execution_count": 19,
   "metadata": {},
   "outputs": [],
   "source": [
    "# Группируем по магазинам и считаем количество периодов для каждого магазина\n",
    "shop_periods = data_task1.groupby(\"Код магазина\")[\"Период\"].nunique()\n",
    "\n",
    "# Фильтруем магазины, которые присутствуют во всех периодах\n",
    "common_shops = shop_periods[\n",
    "    shop_periods == data_task1[\"Период\"].nunique()\n",
    "].index.tolist()\n",
    "\n",
    "# Создаём датафрейм с этими магазинами\n",
    "common_shops_df = data_task1[data_task1[\"Код магазина\"].isin(common_shops)]"
   ]
  },
  {
   "cell_type": "code",
   "execution_count": null,
   "metadata": {},
   "outputs": [],
   "source": [
    "common_shops_df[\"Конверсия\"] = common_shops_df[\"Покупатели, чел.\"] / common_shops_df[\n",
    "    \"Входящие, чел\"\n",
    "].replace(0, np.nan)"
   ]
  },
  {
   "cell_type": "code",
   "execution_count": 35,
   "metadata": {},
   "outputs": [
    {
     "data": {
      "text/plain": [
       "Период\n",
       "1    12.296841\n",
       "2    11.475207\n",
       "Name: Конверсия, dtype: float64"
      ]
     },
     "execution_count": 35,
     "metadata": {},
     "output_type": "execute_result"
    }
   ],
   "source": [
    "avg_conversion_by_period = common_shops_df.groupby(\"Период\")[\"Конверсия\"].mean()\n",
    "avg_conversion_by_period *= 100\n",
    "avg_conversion_by_period"
   ]
  },
  {
   "cell_type": "code",
   "execution_count": 40,
   "metadata": {},
   "outputs": [
    {
     "name": "stdout",
     "output_type": "stream",
     "text": [
      "Прирост конверсии: -6.681667698026315\n"
     ]
    }
   ],
   "source": [
    "print(\n",
    "    \"Прирост конверсии:\",\n",
    "    (avg_conversion_by_period.tolist()[1] - avg_conversion_by_period.tolist()[0])\n",
    "    / avg_conversion_by_period.tolist()[0]\n",
    "    * 100,\n",
    ")"
   ]
  },
  {
   "cell_type": "markdown",
   "metadata": {},
   "source": [
    "### **Задание 2. Python** ###\n",
    "Предоставить файл с кодом решения в jupiter notebook  \n",
    "Рассчитайте наценку на ювелирные изделия по данным на листе \"\"Задание 2\"\".   Соблюсти следующие условия:\n",
    "1. Период анализа - с 1.04.23 по 10.04.23\n",
    "2. В анализе должны участвовать только продажи изделий с общей суммой и себестоимостью больше 0 рублей\n",
    "3. В ответе необходимо получить два значения наценки - среднюю наценку на ювелирные изделия из золота и среднюю наценку на ювелирные изделия из серебра. Сгруппировать изделия по металлу нужно на основе поля \"\"Товарная группа\"\". Товарная группа изделий из серебра начинается на \"\"СИ\"\", все остальные изделия - это золото.\""
   ]
  },
  {
   "cell_type": "code",
   "execution_count": 2,
   "metadata": {},
   "outputs": [],
   "source": [
    "data_task2 = pd.read_excel(\"Тестовое.xlsx\", sheet_name=\"Задание 2\")"
   ]
  },
  {
   "cell_type": "code",
   "execution_count": null,
   "metadata": {},
   "outputs": [],
   "source": [
    "data.sample(5)"
   ]
  },
  {
   "cell_type": "markdown",
   "metadata": {},
   "source": [
    "### **Задание 3. Web парсинг на Python** ###\n",
    "Предоставить файл с результатами в виде таблицы в формате xlsx или csv, а также код парсера в jupiter notebook  \n",
    "Попробуйте написать парсер на Python, который соберет данные с сайта https://www.585zolotoy.ru/ в категории товаров Браслеты – с камнями. Соберите Название товара, Цену после скидок, Цену при оплате online, вес изделия, ссылку на товар. "
   ]
  }
 ],
 "metadata": {
  "kernelspec": {
   "display_name": "base",
   "language": "python",
   "name": "python3"
  },
  "language_info": {
   "codemirror_mode": {
    "name": "ipython",
    "version": 3
   },
   "file_extension": ".py",
   "mimetype": "text/x-python",
   "name": "python",
   "nbconvert_exporter": "python",
   "pygments_lexer": "ipython3",
   "version": "3.11.7"
  }
 },
 "nbformat": 4,
 "nbformat_minor": 2
}
